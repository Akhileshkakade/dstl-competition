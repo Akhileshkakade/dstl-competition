{
 "cells": [
  {
   "cell_type": "code",
   "execution_count": 1,
   "metadata": {
    "collapsed": false
   },
   "outputs": [],
   "source": [
    "import pandas as pd\n",
    "import numpy as np\n",
    "import tifffile as tif\n",
    "import os\n",
    "\n",
    "import utils\n",
    "import global_vars"
   ]
  },
  {
   "cell_type": "markdown",
   "metadata": {},
   "source": [
    "#### Label Generation\n",
    "Uses code written by visoft and posted on kaggle to generate four different resolutions of labels\n"
   ]
  },
  {
   "cell_type": "code",
   "execution_count": 2,
   "metadata": {
    "collapsed": false
   },
   "outputs": [],
   "source": [
    "grid_sizes = pd.read_csv(os.path.join(global_vars.DATA_DIR,'grid_sizes.csv'), index_col=0)\n",
    "train_labels = pd.read_csv(os.path.join(global_vars.DATA_DIR,'train_wkt_v4.csv'), index_col=0)\n",
    "train_names = list(train_labels.index.unique())"
   ]
  },
  {
   "cell_type": "code",
   "execution_count": 4,
   "metadata": {
    "collapsed": false
   },
   "outputs": [],
   "source": [
    "base_size= 835\n",
    "label_sizes = [base_size, base_size*2, base_size*4] \n",
    "for im_name in train_names:\n",
    "    for i in range(1, 11):\n",
    "        polys = utils.get_polygon_list(train_labels, im_name, i)\n",
    "        x_max = grid_sizes.loc[im_name,'Xmax']\n",
    "        y_min = grid_sizes.loc[im_name,'Ymin']\n",
    "        for size in label_sizes:\n",
    "            plist, ilist = utils.get_and_convert_contours(polys, (size,size), x_max, y_min)\n",
    "            im_mask = utils.plot_mask((size,size), plist, ilist)\n",
    "            im_mask = im_mask.reshape((size, size, 1))\n",
    "            tif.imsave(os.path.join(global_vars.DATA_DIR,'labels',\n",
    "                                    im_name + '_'  + str(size)+ '_class_'  +str(i)+'.tif'), im_mask)"
   ]
  }
 ],
 "metadata": {
  "anaconda-cloud": {},
  "kernelspec": {
   "display_name": "Python 3",
   "language": "python",
   "name": "python3"
  },
  "language_info": {
   "codemirror_mode": {
    "name": "ipython",
    "version": 3
   },
   "file_extension": ".py",
   "mimetype": "text/x-python",
   "name": "python",
   "nbconvert_exporter": "python",
   "pygments_lexer": "ipython3",
   "version": "3.5.2"
  }
 },
 "nbformat": 4,
 "nbformat_minor": 2
}
